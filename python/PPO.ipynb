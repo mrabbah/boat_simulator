{
 "cells": [
  {
   "cell_type": "markdown",
   "metadata": {},
   "source": [
    "# Unity ML Agents\n",
    "## Proximal Policy Optimization (PPO)\n",
    "Contains an implementation of PPO as described [here](https://arxiv.org/abs/1707.06347)."
   ]
  },
  {
   "cell_type": "code",
   "execution_count": 1,
   "metadata": {},
   "outputs": [
    {
     "name": "stdout",
     "output_type": "stream",
     "text": [
      "WARNING:tensorflow:From /usr/local/lib/python3.6/site-packages/tensorflow/contrib/learn/python/learn/datasets/base.py:198: retry (from tensorflow.contrib.learn.python.learn.datasets.base) is deprecated and will be removed in a future version.\n",
      "Instructions for updating:\n",
      "Use the retry module or similar alternatives.\n"
     ]
    }
   ],
   "source": [
    "import numpy as np\n",
    "import os\n",
    "import tensorflow as tf\n",
    "\n",
    "from ppo.history import *\n",
    "from ppo.models import *\n",
    "from ppo.trainer import Trainer\n",
    "from unityagents import *"
   ]
  },
  {
   "cell_type": "markdown",
   "metadata": {},
   "source": [
    "### Hyperparameters"
   ]
  },
  {
   "cell_type": "code",
   "execution_count": 2,
   "metadata": {},
   "outputs": [],
   "source": [
    "### General parameters\n",
    "max_steps = 5e5 # Set maximum number of steps to run environment.\n",
    "run_path = \"boatsimulator-29\" # The sub-directory name for model and summary statistics\n",
    "load_model = False # Whether to load a saved model.\n",
    "train_model = True # Whether to train the model.\n",
    "summary_freq = 5000 # Frequency at which to save training statistics.\n",
    "save_freq = 50000 # Frequency at which to save model.\n",
    "env_name = \"boatsimulator\" # Name of the training environment file.\n",
    "curriculum_file = None\n",
    "\n",
    "### Algorithm-specific parameters for tuning\n",
    "gamma = 0.99 # Reward discount rate.\n",
    "lambd = 0.95 # Lambda parameter for GAE.\n",
    "time_horizon = 2048 # How many steps to collect per agent before adding to buffer.\n",
    "beta = 1e-3 # Strength of entropy regularization\n",
    "num_epoch = 5 # Number of gradient descent steps per batch of experiences.\n",
    "num_layers = 2 # Number of hidden layers between state/observation encoding and value/policy layers.\n",
    "epsilon = 0.2 # Acceptable threshold around ratio of old and new policy probabilities.\n",
    "buffer_size = 2048 # How large the experience buffer should be before gradient descent.\n",
    "learning_rate = 1e-4 # Model learning rate.\n",
    "hidden_units = 64 # Number of units in hidden layer.\n",
    "batch_size = 512 # How many experiences per gradient descent update step.\n",
    "normalize = False\n",
    "\n",
    "### Logging dictionary for hyperparameters\n",
    "hyperparameter_dict = {'max_steps':max_steps, 'run_path':run_path, 'env_name':env_name,\n",
    "    'curriculum_file':curriculum_file, 'gamma':gamma, 'lambd':lambd, 'time_horizon':time_horizon,\n",
    "    'beta':beta, 'num_epoch':num_epoch, 'epsilon':epsilon, 'buffe_size':buffer_size,\n",
    "    'learning_rate':learning_rate, 'hidden_units':hidden_units, 'batch_size':batch_size}"
   ]
  },
  {
   "cell_type": "markdown",
   "metadata": {},
   "source": [
    "### Load the environment"
   ]
  },
  {
   "cell_type": "code",
   "execution_count": 3,
   "metadata": {},
   "outputs": [
    {
     "name": "stderr",
     "output_type": "stream",
     "text": [
      "INFO:unityagents:\n",
      "'BoatAcademy' started successfully!\n"
     ]
    },
    {
     "name": "stdout",
     "output_type": "stream",
     "text": [
      "Unity Academy name: BoatAcademy\n",
      "        Number of brains: 1\n",
      "        Reset Parameters :\n",
      "\t\t\n",
      "Unity brain name: BoatBrain\n",
      "        Number of observations (per agent): 0\n",
      "        State space type: continuous\n",
      "        State space size (per agent): 6\n",
      "        Action space type: continuous\n",
      "        Action space size (per agent): 2\n",
      "        Memory space size (per agent): 0\n",
      "        Action descriptions: , \n"
     ]
    }
   ],
   "source": [
    "env = UnityEnvironment(file_name=env_name, curriculum=curriculum_file)\n",
    "print(str(env))\n",
    "brain_name = env.external_brain_names[0]"
   ]
  },
  {
   "cell_type": "markdown",
   "metadata": {},
   "source": [
    "### Train the Agent(s)"
   ]
  },
  {
   "cell_type": "code",
   "execution_count": 4,
   "metadata": {
    "scrolled": true
   },
   "outputs": [
    {
     "name": "stdout",
     "output_type": "stream",
     "text": [
      "Step: 5000. Mean Reward: -2989.0622877179276. Std of Reward: 0.0.\n",
      "Step: 10000. Mean Reward: -1591.727087833931. Std of Reward: 0.0.\n",
      "Step: 15000. Mean Reward: -2175.440415170687. Std of Reward: 0.0.\n",
      "Step: 20000. Mean Reward: -1249.1426725504325. Std of Reward: 0.0.\n",
      "Step: 25000. Mean Reward: -1757.9407704108705. Std of Reward: 0.0.\n",
      "Step: 30000. Mean Reward: -1782.6616165103017. Std of Reward: 0.0.\n",
      "Step: 35000. Mean Reward: -1942.559709190622. Std of Reward: 0.0.\n",
      "Step: 40000. Mean Reward: -1624.018832571201. Std of Reward: 0.0.\n",
      "Step: 45000. Mean Reward: -1789.7779989136839. Std of Reward: 0.0.\n",
      "Step: 50000. Mean Reward: -2035.5872907318746. Std of Reward: 0.0.\n",
      "Saved Model\n",
      "Step: 55000. Mean Reward: -1835.3829246106811. Std of Reward: 0.0.\n",
      "Step: 60000. Mean Reward: -1962.8558908874336. Std of Reward: 0.0.\n",
      "Step: 65000. Mean Reward: -1640.5126889466096. Std of Reward: 0.0.\n",
      "Step: 70000. Mean Reward: -1512.867535995199. Std of Reward: 0.0.\n",
      "Step: 75000. Mean Reward: -1604.7949696854241. Std of Reward: 0.0.\n",
      "Step: 80000. Mean Reward: -1772.5199615841934. Std of Reward: 0.0.\n",
      "Step: 85000. Mean Reward: -1785.951280470812. Std of Reward: 0.0.\n",
      "Step: 90000. Mean Reward: -1501.6199673312628. Std of Reward: 0.0.\n",
      "Step: 95000. Mean Reward: -1739.7751304005212. Std of Reward: 0.0.\n",
      "Step: 100000. Mean Reward: -1736.294725321967. Std of Reward: 0.0.\n",
      "Saved Model\n",
      "Step: 105000. Mean Reward: -1784.6496972780665. Std of Reward: 0.0.\n",
      "Step: 110000. Mean Reward: -1809.6930971803902. Std of Reward: 0.0.\n",
      "Step: 115000. Mean Reward: -1625.8359519339958. Std of Reward: 0.0.\n",
      "Step: 120000. Mean Reward: -1700.0451087403092. Std of Reward: 0.0.\n",
      "Step: 125000. Mean Reward: -1709.5128420034937. Std of Reward: 0.0.\n",
      "Step: 130000. Mean Reward: -1550.8089010220604. Std of Reward: 0.0.\n",
      "Step: 135000. Mean Reward: -1523.8977039534855. Std of Reward: 0.0.\n",
      "Step: 140000. Mean Reward: -1684.8400679029824. Std of Reward: 0.0.\n",
      "Step: 145000. Mean Reward: -1782.1680853000557. Std of Reward: 0.0.\n",
      "Step: 150000. Mean Reward: -1727.6266188277862. Std of Reward: 0.0.\n",
      "Saved Model\n",
      "Step: 155000. Mean Reward: -1666.1182620457555. Std of Reward: 0.0.\n",
      "Step: 160000. Mean Reward: -1642.863642222695. Std of Reward: 0.0.\n",
      "Step: 165000. Mean Reward: -1597.8562647436152. Std of Reward: 0.0.\n",
      "Step: 170000. Mean Reward: -1587.0053897966595. Std of Reward: 0.0.\n",
      "Step: 175000. Mean Reward: -1645.4077450452014. Std of Reward: 0.0.\n",
      "Step: 180000. Mean Reward: -1615.2641078288761. Std of Reward: 0.0.\n",
      "Step: 185000. Mean Reward: -1643.5773349293968. Std of Reward: 0.0.\n",
      "Step: 190000. Mean Reward: -1631.9321797999032. Std of Reward: 0.0.\n",
      "Step: 195000. Mean Reward: -1609.2196610198646. Std of Reward: 0.0.\n",
      "Step: 200000. Mean Reward: -1569.3403671119606. Std of Reward: 0.0.\n",
      "Saved Model\n",
      "Step: 205000. Mean Reward: -1571.945422513302. Std of Reward: 0.0.\n",
      "Step: 210000. Mean Reward: -1652.695528431669. Std of Reward: 0.0.\n",
      "Step: 215000. Mean Reward: -1618.0024523307893. Std of Reward: 0.0.\n",
      "Step: 220000. Mean Reward: -1643.2031373257191. Std of Reward: 0.0.\n",
      "Step: 225000. Mean Reward: -1613.3320997747635. Std of Reward: 0.0.\n",
      "Step: 230000. Mean Reward: -1561.098086938678. Std of Reward: 0.0.\n",
      "Step: 235000. Mean Reward: -1678.5110047094038. Std of Reward: 0.0.\n",
      "Step: 240000. Mean Reward: -1662.3924058766524. Std of Reward: 0.0.\n",
      "Step: 245000. Mean Reward: -1674.270300606843. Std of Reward: 0.0.\n",
      "Step: 250000. Mean Reward: -1532.014431218663. Std of Reward: 0.0.\n",
      "Saved Model\n",
      "Step: 255000. Mean Reward: -1646.1719214776765. Std of Reward: 0.0.\n",
      "Step: 260000. Mean Reward: -1631.3674799088487. Std of Reward: 0.0.\n",
      "Step: 265000. Mean Reward: -1550.7597708759358. Std of Reward: 0.0.\n",
      "Step: 270000. Mean Reward: -1611.437157375226. Std of Reward: 0.0.\n",
      "Step: 275000. Mean Reward: -1659.7965581322603. Std of Reward: 0.0.\n",
      "Step: 280000. Mean Reward: -1589.4723846575953. Std of Reward: 0.0.\n",
      "Step: 285000. Mean Reward: -1600.5925692257306. Std of Reward: 0.0.\n",
      "Step: 290000. Mean Reward: -1607.359651148432. Std of Reward: 0.0.\n",
      "Step: 295000. Mean Reward: -1557.9462921987838. Std of Reward: 0.0.\n",
      "Step: 300000. Mean Reward: -1544.5941330086468. Std of Reward: 0.0.\n",
      "Saved Model\n",
      "Step: 305000. Mean Reward: -1543.213148027827. Std of Reward: 0.0.\n",
      "Step: 310000. Mean Reward: -1618.492875537892. Std of Reward: 0.0.\n",
      "Step: 315000. Mean Reward: -1557.7132665831025. Std of Reward: 0.0.\n",
      "Step: 320000. Mean Reward: -1601.9751700144768. Std of Reward: 0.0.\n",
      "Step: 325000. Mean Reward: -1543.4368885997214. Std of Reward: 0.0.\n",
      "Step: 330000. Mean Reward: -1579.1760274736987. Std of Reward: 0.0.\n",
      "Step: 335000. Mean Reward: -1685.370948603778. Std of Reward: 0.0.\n",
      "Step: 340000. Mean Reward: -1580.157423513546. Std of Reward: 0.0.\n",
      "Step: 345000. Mean Reward: -1530.4174013295499. Std of Reward: 0.0.\n",
      "Step: 350000. Mean Reward: -1595.2057812167473. Std of Reward: 0.0.\n",
      "Saved Model\n",
      "Step: 355000. Mean Reward: -1614.1313713266336. Std of Reward: 0.0.\n",
      "Step: 360000. Mean Reward: -1646.0601837490317. Std of Reward: 0.0.\n",
      "Step: 365000. Mean Reward: -1547.9327773377195. Std of Reward: 0.0.\n",
      "Step: 370000. Mean Reward: -1643.2383385651226. Std of Reward: 0.0.\n",
      "Step: 375000. Mean Reward: -1518.2000276105869. Std of Reward: 0.0.\n",
      "Step: 380000. Mean Reward: -1552.4557903706364. Std of Reward: 0.0.\n",
      "Step: 385000. Mean Reward: -1534.6118854158078. Std of Reward: 0.0.\n",
      "Step: 390000. Mean Reward: -1582.5514729771758. Std of Reward: 0.0.\n",
      "Step: 395000. Mean Reward: -1624.3355946379363. Std of Reward: 0.0.\n",
      "Step: 400000. Mean Reward: -1609.4023467100994. Std of Reward: 0.0.\n",
      "Saved Model\n",
      "Step: 405000. Mean Reward: -1595.06302761357. Std of Reward: 0.0.\n",
      "Step: 410000. Mean Reward: -1629.023410348809. Std of Reward: 0.0.\n",
      "Step: 415000. Mean Reward: -1501.3782738964849. Std of Reward: 0.0.\n",
      "Step: 420000. Mean Reward: -1572.3426341154657. Std of Reward: 0.0.\n",
      "Step: 425000. Mean Reward: -1506.521586741208. Std of Reward: 0.0.\n",
      "Step: 430000. Mean Reward: -1524.2720717523637. Std of Reward: 0.0.\n",
      "Step: 435000. Mean Reward: -1619.6686605609036. Std of Reward: 0.0.\n",
      "Step: 440000. Mean Reward: -1561.8118041083203. Std of Reward: 0.0.\n",
      "Step: 445000. Mean Reward: -1546.2040432029023. Std of Reward: 0.0.\n",
      "Step: 450000. Mean Reward: -1615.069106823664. Std of Reward: 0.0.\n",
      "Saved Model\n",
      "Step: 455000. Mean Reward: -1460.2743890155073. Std of Reward: 0.0.\n",
      "Step: 460000. Mean Reward: -1615.616606551242. Std of Reward: 0.0.\n",
      "Step: 465000. Mean Reward: -1562.6676278513926. Std of Reward: 0.0.\n",
      "Step: 470000. Mean Reward: -1615.7731557007749. Std of Reward: 0.0.\n",
      "Step: 475000. Mean Reward: -1595.177073499266. Std of Reward: 0.0.\n",
      "Step: 480000. Mean Reward: -1594.1582547547628. Std of Reward: 0.0.\n",
      "Step: 485000. Mean Reward: -1620.811554766385. Std of Reward: 0.0.\n",
      "Step: 490000. Mean Reward: -1526.3069806593583. Std of Reward: 0.0.\n",
      "Step: 495000. Mean Reward: -1536.6373742422638. Std of Reward: 0.0.\n",
      "Step: 500000. Mean Reward: -1581.0661614881606. Std of Reward: 0.0.\n",
      "Saved Model\n",
      "Saved Model\n",
      "INFO:tensorflow:Restoring parameters from ./models/boatsimulator-29/model-500001.cptk\n"
     ]
    },
    {
     "name": "stderr",
     "output_type": "stream",
     "text": [
      "INFO:tensorflow:Restoring parameters from ./models/boatsimulator-29/model-500001.cptk\n"
     ]
    },
    {
     "name": "stdout",
     "output_type": "stream",
     "text": [
      "INFO:tensorflow:Froze 7 variables.\n"
     ]
    },
    {
     "name": "stderr",
     "output_type": "stream",
     "text": [
      "INFO:tensorflow:Froze 7 variables.\n"
     ]
    },
    {
     "name": "stdout",
     "output_type": "stream",
     "text": [
      "Converted 7 variables to const ops.\n"
     ]
    }
   ],
   "source": [
    "tf.reset_default_graph()\n",
    "\n",
    "if curriculum_file == \"None\":\n",
    "    curriculum_file = None\n",
    "\n",
    "\n",
    "def get_progress():\n",
    "    if curriculum_file is not None:\n",
    "        if env._curriculum.measure_type == \"progress\":\n",
    "            return steps / max_steps\n",
    "        elif env._curriculum.measure_type == \"reward\":\n",
    "            return last_reward\n",
    "        else:\n",
    "            return None\n",
    "    else:\n",
    "        return None\n",
    "\n",
    "# Create the Tensorflow model graph\n",
    "ppo_model = create_agent_model(env, lr=learning_rate,\n",
    "                               h_size=hidden_units, epsilon=epsilon,\n",
    "                               beta=beta, max_step=max_steps, \n",
    "                               normalize=normalize, num_layers=num_layers)\n",
    "\n",
    "is_continuous = (env.brains[brain_name].action_space_type == \"continuous\")\n",
    "use_observations = (env.brains[brain_name].number_observations > 0)\n",
    "use_states = (env.brains[brain_name].state_space_size > 0)\n",
    "\n",
    "model_path = './models/{}'.format(run_path)\n",
    "summary_path = './summaries/{}'.format(run_path)\n",
    "\n",
    "if not os.path.exists(model_path):\n",
    "    os.makedirs(model_path)\n",
    "\n",
    "if not os.path.exists(summary_path):\n",
    "    os.makedirs(summary_path)\n",
    "\n",
    "init = tf.global_variables_initializer()\n",
    "saver = tf.train.Saver()\n",
    "\n",
    "with tf.Session() as sess:\n",
    "    # Instantiate model parameters\n",
    "    if load_model:\n",
    "        print('Loading Model...')\n",
    "        ckpt = tf.train.get_checkpoint_state(model_path)\n",
    "        saver.restore(sess, ckpt.model_checkpoint_path)\n",
    "    else:\n",
    "        sess.run(init)\n",
    "    steps, last_reward = sess.run([ppo_model.global_step, ppo_model.last_reward])    \n",
    "    summary_writer = tf.summary.FileWriter(summary_path)\n",
    "    info = env.reset(train_mode=train_model, progress=get_progress())[brain_name]\n",
    "    trainer = Trainer(ppo_model, sess, info, is_continuous, use_observations, use_states, train_model)\n",
    "    if train_model:\n",
    "        trainer.write_text(summary_writer, 'Hyperparameters', hyperparameter_dict, steps)\n",
    "    while steps <= max_steps:\n",
    "        if env.global_done:\n",
    "            info = env.reset(train_mode=train_model, progress=get_progress())[brain_name]\n",
    "        # Decide and take an action\n",
    "        new_info = trainer.take_action(info, env, brain_name, steps, normalize)\n",
    "        info = new_info\n",
    "        trainer.process_experiences(info, time_horizon, gamma, lambd)\n",
    "        if len(trainer.training_buffer['actions']) > buffer_size and train_model:\n",
    "            # Perform gradient descent with experience buffer\n",
    "            trainer.update_model(batch_size, num_epoch)\n",
    "        if steps % summary_freq == 0 and steps != 0 and train_model:\n",
    "            # Write training statistics to tensorboard.\n",
    "            trainer.write_summary(summary_writer, steps, env._curriculum.lesson_number)\n",
    "        if steps % save_freq == 0 and steps != 0 and train_model:\n",
    "            # Save Tensorflow model\n",
    "            save_model(sess, model_path=model_path, steps=steps, saver=saver)\n",
    "        steps += 1\n",
    "        sess.run(ppo_model.increment_step)\n",
    "        if len(trainer.stats['cumulative_reward']) > 0:\n",
    "            mean_reward = np.mean(trainer.stats['cumulative_reward'])\n",
    "            sess.run(ppo_model.update_reward, feed_dict={ppo_model.new_reward: mean_reward})\n",
    "            last_reward = sess.run(ppo_model.last_reward)\n",
    "    # Final save Tensorflow model\n",
    "    if steps != 0 and train_model:\n",
    "        save_model(sess, model_path=model_path, steps=steps, saver=saver)\n",
    "env.close()\n",
    "export_graph(model_path, env_name)"
   ]
  },
  {
   "cell_type": "markdown",
   "metadata": {},
   "source": [
    "### Export the trained Tensorflow graph\n",
    "Once the model has been trained and saved, we can export it as a .bytes file which Unity can embed."
   ]
  },
  {
   "cell_type": "code",
   "execution_count": null,
   "metadata": {},
   "outputs": [],
   "source": [
    "export_graph(model_path, env_name)"
   ]
  },
  {
   "cell_type": "code",
   "execution_count": null,
   "metadata": {},
   "outputs": [],
   "source": []
  }
 ],
 "metadata": {
  "anaconda-cloud": {},
  "kernelspec": {
   "display_name": "Python 3",
   "language": "python",
   "name": "python3"
  },
  "language_info": {
   "codemirror_mode": {
    "name": "ipython",
    "version": 3
   },
   "file_extension": ".py",
   "mimetype": "text/x-python",
   "name": "python",
   "nbconvert_exporter": "python",
   "pygments_lexer": "ipython3",
   "version": "3.6.5"
  }
 },
 "nbformat": 4,
 "nbformat_minor": 1
}
